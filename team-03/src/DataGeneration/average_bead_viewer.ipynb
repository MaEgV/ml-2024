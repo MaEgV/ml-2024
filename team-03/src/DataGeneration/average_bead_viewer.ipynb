{
 "cells": [
  {
   "cell_type": "markdown",
   "metadata": {},
   "source": [
    "# Генерация и просмотр усредненной сферы\n",
    "\n",
    "Журнал для загрузки и проверки усредненной сферы"
   ]
  },
  {
   "cell_type": "code",
   "execution_count": null,
   "metadata": {
    "execution": {
     "iopub.execute_input": "2024-04-04T19:55:20.573137Z",
     "iopub.status.busy": "2024-04-04T19:55:20.572616Z",
     "iopub.status.idle": "2024-04-04T19:55:22.564335Z"
    },
    "tags": []
   },
   "outputs": [],
   "source": [
    "import matplotlib.cm as cm\n",
    "from plotting_utils import *\n",
    "from spheres_processing import *"
   ]
  },
  {
   "cell_type": "code",
   "execution_count": null,
   "metadata": {
    "execution": {
     "iopub.execute_input": "2024-04-04T19:55:22.579425Z",
     "iopub.status.busy": "2024-04-04T19:55:22.578708Z",
     "iopub.status.idle": "2024-04-04T19:55:22.589980Z"
    },
    "tags": []
   },
   "outputs": [],
   "source": [
    "# Данные о сферах\n",
    "SPHERES_PATH = \"./data/spheres_images/22.22.100_200nm_green\"\n",
    "BEAD_SHAPE = [31, 63, 63]\n",
    "Z_SCALE, X_SCALE, Y_SCALE = 0.1, 0.022, 0.022\n",
    "BEAD_DIAMETER = 0.2"
   ]
  },
  {
   "cell_type": "code",
   "execution_count": null,
   "metadata": {
    "execution": {
     "iopub.execute_input": "2024-04-04T19:55:23.098076Z",
     "iopub.status.busy": "2024-04-04T19:55:23.097363Z",
     "iopub.status.idle": "2024-04-04T19:55:30.633631Z",
     "shell.execute_reply": "2024-04-04T19:55:30.632970Z",
     "shell.execute_reply.started": "2024-04-04T19:55:23.098037Z"
    },
    "tags": []
   },
   "outputs": [],
   "source": [
    "# Генерация сфер\n",
    "gauss_blur_sigma = 1.5\n",
    "blured_bead = generate_average_bead(SPHERES_PATH, BEAD_SHAPE, gauss_blur_sigma=gauss_blur_sigma, low_border = 0)\n",
    "clear_bead = model_3d_linear_bead(BEAD_SHAPE, Z_SCALE, X_SCALE, Y_SCALE, BEAD_DIAMETER, lower_intensity=200)\n",
    "clear_airy_bead = model_3d_airy_bead(BEAD_SHAPE, Z_SCALE, X_SCALE, Y_SCALE, BEAD_DIAMETER, zoomfactor=2.6)"
   ]
  },
  {
   "cell_type": "markdown",
   "metadata": {},
   "source": [
    "# Визуализация усредненной трехмерной сферы"
   ]
  },
  {
   "cell_type": "code",
   "execution_count": null,
   "metadata": {
    "execution": {
     "iopub.execute_input": "2024-04-04T19:55:39.974959Z",
     "iopub.status.busy": "2024-04-04T19:55:39.974242Z",
     "iopub.status.idle": "2024-04-04T19:55:40.302940Z",
     "shell.execute_reply": "2024-04-04T19:55:40.302187Z",
     "shell.execute_reply.started": "2024-04-04T19:55:39.974925Z"
    },
    "tags": []
   },
   "outputs": [],
   "source": [
    "plot_image_slices(blured_bead, \"./,\", \"./.\", cm.jet, X_SCALE, Z_SCALE, np.array(BEAD_SHAPE) // 2)\n",
    "#fig.show()"
   ]
  },
  {
   "cell_type": "code",
   "execution_count": null,
   "metadata": {
    "execution": {
     "iopub.execute_input": "2024-04-04T19:55:40.727855Z",
     "iopub.status.busy": "2024-04-04T19:55:40.727282Z",
     "iopub.status.idle": "2024-04-04T19:55:41.035057Z",
     "shell.execute_reply": "2024-04-04T19:55:41.034388Z",
     "shell.execute_reply.started": "2024-04-04T19:55:40.727824Z"
    },
    "tags": []
   },
   "outputs": [],
   "source": [
    "fig, axes = center_intensities_show(blured_bead)\n",
    "fig.show()"
   ]
  },
  {
   "cell_type": "markdown",
   "metadata": {},
   "source": [
    "# Визуализация точной (линейной) сферы"
   ]
  },
  {
   "cell_type": "code",
   "execution_count": null,
   "metadata": {
    "execution": {
     "iopub.execute_input": "2024-04-04T19:56:05.893170Z",
     "iopub.status.busy": "2024-04-04T19:56:05.892482Z",
     "iopub.status.idle": "2024-04-04T19:56:06.200217Z",
     "shell.execute_reply": "2024-04-04T19:56:06.199627Z",
     "shell.execute_reply.started": "2024-04-04T19:56:05.893138Z"
    }
   },
   "outputs": [],
   "source": [
    "plot_image_slices(clear_bead, \"./,\", \"./.\", cm.jet, X_SCALE, Z_SCALE, np.array(BEAD_SHAPE) // 2)"
   ]
  },
  {
   "cell_type": "code",
   "execution_count": null,
   "metadata": {
    "execution": {
     "iopub.execute_input": "2024-04-04T19:56:09.817394Z",
     "iopub.status.busy": "2024-04-04T19:56:09.816631Z",
     "iopub.status.idle": "2024-04-04T19:56:10.077839Z",
     "shell.execute_reply": "2024-04-04T19:56:10.076863Z",
     "shell.execute_reply.started": "2024-04-04T19:56:09.817354Z"
    }
   },
   "outputs": [],
   "source": [
    "fig, axes = center_intensities_show(clear_bead)\n",
    "fig.show()"
   ]
  },
  {
   "cell_type": "markdown",
   "metadata": {},
   "source": [
    "# Визуализация точной (airy) сферы"
   ]
  },
  {
   "cell_type": "code",
   "execution_count": null,
   "metadata": {
    "execution": {
     "iopub.execute_input": "2024-04-04T19:56:12.973212Z",
     "iopub.status.busy": "2024-04-04T19:56:12.972473Z",
     "iopub.status.idle": "2024-04-04T19:56:13.278973Z",
     "shell.execute_reply": "2024-04-04T19:56:13.278365Z",
     "shell.execute_reply.started": "2024-04-04T19:56:12.973182Z"
    }
   },
   "outputs": [],
   "source": [
    "plot_image_slices(clear_airy_bead, \"./,\", \"./.\", cm.jet, X_SCALE, Z_SCALE, np.array(BEAD_SHAPE) // 2)"
   ]
  },
  {
   "cell_type": "code",
   "execution_count": null,
   "metadata": {
    "execution": {
     "iopub.execute_input": "2024-04-04T19:56:16.515189Z",
     "iopub.status.busy": "2024-04-04T19:56:16.514543Z",
     "iopub.status.idle": "2024-04-04T19:56:16.881177Z",
     "shell.execute_reply": "2024-04-04T19:56:16.880504Z",
     "shell.execute_reply.started": "2024-04-04T19:56:16.515150Z"
    }
   },
   "outputs": [],
   "source": [
    "fig, axes = center_intensities_show(clear_airy_bead)\n",
    "fig.show()"
   ]
  },
  {
   "cell_type": "markdown",
   "metadata": {},
   "source": [
    "## Анализ дополнительного размытия сфер"
   ]
  },
  {
   "cell_type": "code",
   "execution_count": 10,
   "metadata": {
    "execution": {
     "iopub.execute_input": "2024-04-04T19:56:19.956781Z",
     "iopub.status.busy": "2024-04-04T19:56:19.956162Z",
     "iopub.status.idle": "2024-04-04T19:56:19.996689Z",
     "shell.execute_reply": "2024-04-04T19:56:19.995995Z",
     "shell.execute_reply.started": "2024-04-04T19:56:19.956742Z"
    }
   },
   "outputs": [],
   "source": [
    "SIGMA = 5.0\n",
    "MIN_DIST = 0.150\n",
    "blured_clear_bead = gaussian_blurring_sphere(clear_bead, Z_SCALE, X_SCALE, Y_SCALE, SIGMA, additional_space_xy=MIN_DIST / 2, additional_space_z = MIN_DIST * 1.5)\n",
    "blured_clear_airy_bead = gaussian_blurring_sphere(clear_airy_bead, Z_SCALE, X_SCALE, Y_SCALE, SIGMA, additional_space_xy=MIN_DIST / 2, additional_space_z = MIN_DIST * 1.5)"
   ]
  },
  {
   "cell_type": "code",
   "execution_count": null,
   "metadata": {
    "execution": {
     "iopub.execute_input": "2024-04-04T19:56:20.803639Z",
     "iopub.status.busy": "2024-04-04T19:56:20.802843Z",
     "iopub.status.idle": "2024-04-04T19:56:21.226191Z",
     "shell.execute_reply": "2024-04-04T19:56:21.225612Z",
     "shell.execute_reply.started": "2024-04-04T19:56:20.803598Z"
    }
   },
   "outputs": [],
   "source": [
    "plot_image_slices(blured_clear_bead, \"./,\", \"./.\", cm.jet, X_SCALE, Z_SCALE, np.array(BEAD_SHAPE) // 2)"
   ]
  },
  {
   "cell_type": "code",
   "execution_count": null,
   "metadata": {
    "execution": {
     "iopub.execute_input": "2024-04-04T19:56:21.570731Z",
     "iopub.status.busy": "2024-04-04T19:56:21.570027Z",
     "iopub.status.idle": "2024-04-04T19:56:21.864167Z",
     "shell.execute_reply": "2024-04-04T19:56:21.863611Z",
     "shell.execute_reply.started": "2024-04-04T19:56:21.570692Z"
    }
   },
   "outputs": [],
   "source": [
    "fig, axes = center_intensities_show(blured_clear_bead)\n",
    "fig.show()"
   ]
  },
  {
   "cell_type": "code",
   "execution_count": null,
   "metadata": {
    "execution": {
     "iopub.execute_input": "2024-04-04T19:56:22.570552Z",
     "iopub.status.busy": "2024-04-04T19:56:22.569933Z",
     "iopub.status.idle": "2024-04-04T19:56:22.845528Z",
     "shell.execute_reply": "2024-04-04T19:56:22.844951Z",
     "shell.execute_reply.started": "2024-04-04T19:56:22.570525Z"
    }
   },
   "outputs": [],
   "source": [
    "plot_image_slices(blured_clear_airy_bead, \"./,\", \"./.\", cm.jet, X_SCALE, Z_SCALE, np.array(BEAD_SHAPE) // 2)"
   ]
  },
  {
   "cell_type": "code",
   "execution_count": null,
   "metadata": {
    "execution": {
     "iopub.execute_input": "2024-04-04T19:56:23.470992Z",
     "iopub.status.busy": "2024-04-04T19:56:23.470342Z",
     "iopub.status.idle": "2024-04-04T19:56:23.722135Z",
     "shell.execute_reply": "2024-04-04T19:56:23.721390Z",
     "shell.execute_reply.started": "2024-04-04T19:56:23.470939Z"
    }
   },
   "outputs": [],
   "source": [
    "fig, axes = center_intensities_show(blured_clear_airy_bead)\n",
    "fig.show()"
   ]
  },
  {
   "cell_type": "markdown",
   "metadata": {},
   "source": [
    "## Дополнительно: анализ PSF"
   ]
  },
  {
   "cell_type": "code",
   "execution_count": null,
   "metadata": {
    "execution": {
     "iopub.execute_input": "2024-04-04T19:59:52.253252Z",
     "iopub.status.busy": "2024-04-04T19:59:52.252537Z",
     "iopub.status.idle": "2024-04-04T19:59:52.493705Z",
     "shell.execute_reply": "2024-04-04T19:59:52.493104Z",
     "shell.execute_reply.started": "2024-04-04T19:59:52.253210Z"
    },
    "tags": []
   },
   "outputs": [],
   "source": [
    "from utils import *\n",
    "\n",
    "save_tiff(blured_bead, \"average_blured.tiff\")\n",
    "save_tiff(blured_clear_airy_bead, \"average_clear.tiff\")\n",
    "\n",
    "print(np.unravel_index(blured_bead.argmax(), blured_bead.shape), blured_bead[np.unravel_index(blured_bead.argmax(), blured_bead.shape)])\n",
    "print(np.unravel_index(blured_clear_airy_bead.argmax(), blured_clear_airy_bead.shape), blured_clear_airy_bead[np.unravel_index(blured_clear_airy_bead.argmax(), blured_clear_airy_bead.shape)])\n"
   ]
  },
  {
   "cell_type": "code",
   "execution_count": null,
   "metadata": {
    "execution": {
     "iopub.execute_input": "2024-04-04T19:57:24.652393Z",
     "iopub.status.busy": "2024-04-04T19:57:24.651923Z",
     "iopub.status.idle": "2024-04-04T19:57:24.865496Z",
     "shell.execute_reply": "2024-04-04T19:57:24.864555Z",
     "shell.execute_reply.started": "2024-04-04T19:57:24.652356Z"
    }
   },
   "outputs": [],
   "source": [
    "psf = load_tiff(\"psf_0.01_10.tif\")\n",
    "psf = ((psf - np.min(psf))).astype(\"uint8\")\n",
    "save_tiff(psf, \"processed_psf.tiff\") \n",
    "fig, axes = bead_show(psf)\n",
    "fig.show()"
   ]
  },
  {
   "cell_type": "code",
   "execution_count": null,
   "metadata": {},
   "outputs": [],
   "source": [
    "fig, axes = center_intensities_show(psf)\n",
    "fig.show()"
   ]
  }
 ],
 "metadata": {
  "kernelspec": {
   "display_name": "DataSphere Kernel",
   "language": "python",
   "name": "python3"
  },
  "language_info": {
   "codemirror_mode": {
    "name": "ipython",
    "version": 3
   },
   "file_extension": ".py",
   "mimetype": "text/x-python",
   "name": "python",
   "nbconvert_exporter": "python",
   "pygments_lexer": "ipython3",
   "version": "3.10.12"
  }
 },
 "nbformat": 4,
 "nbformat_minor": 4
}
