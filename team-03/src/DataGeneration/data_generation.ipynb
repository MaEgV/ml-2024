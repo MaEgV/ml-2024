{
 "cells": [
  {
   "cell_type": "markdown",
   "metadata": {},
   "source": [
    "# Генерация данных\n",
    "\n",
    "Данный журнал проводит генерацию данных по принципу свёртки чётких изображений органических структур с изображениями размытых и чётких сфер.\n",
    "На вход в блоке входных данных (констант) указываются:\n",
    "- *PATHS* - лист с путями до .tif/.tiff изображений с чёткими органическими изображениями;\n",
    "- *SPHERES_PATH* - Путь до снимков сфер;\n",
    "- *BEAD_SHAPE* - Размер изображения чёткой сферы (число слоев, ширина, высота);\n",
    "- *Z_SCALE, X_SCALE, Y_SCALE* - Масштабы съемки сфер вдоль осей OZ, OX, OY соответственно (в мкм/пксл);\n",
    "- *BEAD_DIAMETER* - Диаметр сферы (в мкм/пксл);\n",
    "- *IMG_SPLIT_SHAPE* - Размер нарезки входных чётких изображений органических объектов (число слоев, ширина, высота);\n",
    "- *DATA_SHAPE* - Размер изображений в итоговом датасете. Размеры должны быть НЕ МЕНЬШЕ чем в *IMG_SPLIT_SHAPE* вдоль каждой из осей (число слоев, ширина, высота);\n",
    "- *DATASET_NAME, DATASET_PATH* - Путь и название датасета;\n",
    "- *DESCRIPTION* - Описание датасета (необязательно)."
   ]
  },
  {
   "cell_type": "markdown",
   "metadata": {},
   "source": [
    "## Блок входных данных"
   ]
  },
  {
   "cell_type": "code",
   "execution_count": 1,
   "metadata": {
    "execution": {
     "iopub.execute_input": "2024-11-29T11:08:37.099046Z",
     "iopub.status.busy": "2024-11-29T11:08:37.097960Z",
     "iopub.status.idle": "2024-11-29T11:08:37.236619Z",
     "shell.execute_reply": "2024-11-29T11:08:37.235711Z",
     "shell.execute_reply.started": "2024-11-29T11:08:37.099006Z"
    },
    "tags": []
   },
   "outputs": [],
   "source": [
    "# images paths\n",
    "#PATHS = [#\"./data/synthetic_data/synthetic_spheres.tiff\",\n",
    "#         #\"./data/synthetic_data/synthetic_sticks.tiff\",\n",
    "#         \"./data/raw_neurons/good_Project_Series005_z00_denoised.tif\",\n",
    "#         \"./data/raw_neurons/good_Project_Series008_z00.tif\",\n",
    "#         \"./data/raw_neurons/bad_Project_Series018_z00_denoised.tif\",\n",
    "#         \"./data/raw_neurons/bad_Project_Series016.tif\",\n",
    "    \n",
    "#         \"./data/raw_neurons/moded_bad_Project_Series016.tif\",\n",
    "#         \"./data/raw_neurons/moded_bad_Project_Series018_z00_denoised.tif\",\n",
    "#         \"./data/raw_neurons/moded_good_Project_Series005_z00_denoised.tif\",\n",
    "#         \"./data/raw_neurons/moded_good_Project_Series008_z00.tif\",\n",
    "    \n",
    "#         \"./data/raw_neurons/21.tif\",\n",
    "#         \"./data/raw_neurons/24.tif\",\n",
    "#         \"./data/raw_neurons/30.tiff\"\n",
    "#        ]  \n",
    "\n",
    "PATHS = [\n",
    "    \"./data/raw_neurons/norm_010914_2.tif\",\n",
    "    \"./data/raw_neurons/norm_010914.tif\",\n",
    "    \"./data/raw_neurons/norm_042114_2.tif\",\n",
    "    \"./data/raw_neurons/norm_042114_3.tif\",\n",
    "    \"./data/raw_neurons/norm_042114.tif\",\n",
    "    \"./data/raw_neurons/norm_smallim2.tif\",\n",
    "    \"./data/raw_neurons/norm_smallim22.tif\",\n",
    "    \"./data/raw_neurons/norm_smallim23.tif\",\n",
    "    \"./data/raw_neurons/norm_smallim24.tif\",\n",
    "    \"./data/raw_neurons/norm_smallim26.tif\",\n",
    "    \"./data/raw_neurons/norm_smallim27.tif\",\n",
    "    \"./data/raw_neurons/norm_smallim28.tif\",\n",
    "    \"./data/raw_neurons/norm_smallim5.tif\",\n",
    "    \"./data/raw_neurons/sw_norm_smalliim16.tif\",\n",
    "    \"./data/raw_neurons/sw_norm_smallim11.tif\",\n",
    "    \"./data/raw_neurons/sw_norm_smallim12.tif\",\n",
    "    \"./data/raw_neurons/sw_norm_smallim13.tif\",\n",
    "    \"./data/raw_neurons/sw_norm_smallim14.tif\",\n",
    "    \"./data/raw_neurons/sw_norm_smallim15.tif\",\n",
    "    \"./data/raw_neurons/sw_norm_smallim17.tif\",\n",
    "    \"./data/raw_neurons/bad_Project_Series016.tif\",\n",
    "    \"./data/raw_neurons/good_Project_Series008_z00.tif\",\n",
    "    \"./data/raw_neurons/moded_good_Project_Series008_z00.tif\",\n",
    "    \"./data/raw_neurons/moded_bad_Project_Series016.tif\",\n",
    "        ]  \n",
    "\n",
    "# init blured and clear spheres\n",
    "SPHERES_PATH = \"./data/spheres_images/19.19.200_200nm_vital\"\n",
    "BEAD_SHAPE = [31, 63, 63]\n",
    "Z_SCALE, X_SCALE, Y_SCALE = 0.2, 0.019, 0.019\n",
    "BEAD_DIAMETER = 0.2    \n",
    "\n",
    "# init constants for dataset\n",
    "IMG_SPLIT_SHAPE = (30, 150, 150)\n",
    "DATA_SHAPE = (36, 160, 160) \n",
    "\n",
    "# constants for dataset naming and saving\n",
    "DATASET_NAME, DATASET_PATH = \"inflated_new_vital\", \"./\"\n",
    "DESCRIPTION = \"Inflated big dataset of vital microscopy. With ERs and calogen\"\n",
    "\n",
    "# ADVANCED PROPERTIES (select them by using 'average_bead_viewer.ipynb'\n",
    "# Parameters for additional bluring clear sphere for more smooth intensity degradation\n",
    "SIGMA = 4.0        # Gaussian sigma value\n",
    "MIN_DIST = 0.150   # Maximum additional space, which be taken with sphere in each axis (in nm). Be attention: this value will be multiplied on 1.5 to OZ axis."
   ]
  },
  {
   "cell_type": "markdown",
   "metadata": {},
   "source": [
    "## Генерация данных\n",
    "\n",
    "### 1. Подключение файлов и функций для запуска пайплайна генерации данных"
   ]
  },
  {
   "cell_type": "code",
   "execution_count": null,
   "metadata": {
    "execution": {
     "iopub.execute_input": "2024-11-29T11:08:37.239607Z",
     "iopub.status.busy": "2024-11-29T11:08:37.238331Z",
     "iopub.status.idle": "2024-11-29T11:08:55.054484Z",
     "shell.execute_reply": "2024-11-29T11:08:55.053684Z",
     "shell.execute_reply.started": "2024-11-29T11:08:37.239550Z"
    },
    "tags": []
   },
   "outputs": [],
   "source": [
    "import typing as tp\n",
    "import numpy as np\n",
    "\n",
    "from pipeline_provider import Pipeline\n",
    "from dataset_generator import DatasetGenerator\n",
    "from image_processing import *\n",
    "from utils import *\n",
    "from spheres_processing import *\n",
    "\n",
    "\n",
    "def noize_filtering(img : np.ndarray, gauss_blur_sigma : float = 3.5) -> np.ndarray:\n",
    "    binarized_img = make_3d_binarization(img, gauss_blur_sigma)\n",
    "    img[binarized_img == 0] = 0\n",
    "    return img\n",
    "\n",
    "def extention_bluring(img : np.ndarray, z_rad:int, x_rad:int, y_rad:int) -> np.ndarray:\n",
    "    z_rad = max(z_rad, 1)\n",
    "    x_rad = max(x_rad, 1)\n",
    "    y_rad = max(y_rad, 1)\n",
    "    blur_filter = np.zeros(shape=(2 * z_rad - 1, 2 * x_rad - 1, 2 * y_rad - 1))\n",
    "    \n",
    "    for z in range(2 * z_rad - 1):\n",
    "        for x in range(2 * x_rad - 1):\n",
    "            for y in range(2 * y_rad - 1):\n",
    "                if ((z - z_rad + 1) / z_rad) ** 2 + ((x - x_rad + 1) / x_rad) ** 2 + ((y - y_rad + 1) / y_rad) ** 2 <= 1:\n",
    "                    blur_filter[z, x, y] = 1\n",
    "    blur_filter = blur_filter / np.sum(blur_filter)\n",
    "    \n",
    "    new_img = convolution(img, blur_filter)\n",
    "    return new_img\n",
    "\n",
    "\n",
    "def augmentate_imgs(img : np.ndarray, augmentation_cnt : int = 10) -> tp.List[np.ndarray]:\n",
    "    augmentated_imgs = [img]\n",
    "    each_piece_augmentate_piece = augmentation_cnt - 1\n",
    "    \n",
    "    min_crop_size = 1\n",
    "    for j in range(each_piece_augmentate_piece):\n",
    "        # crop along z intensities\n",
    "        along_z_crop = np.random.randint(min_crop_size, img.shape[0])\n",
    "        #min_crop_size = along_z_crop\n",
    "        #new_img = crop_image(img, [along_z_crop, -1, -1])\n",
    "        new_img = img\n",
    "        \n",
    "        # rotate img\n",
    "        rotates_cnt = np.random.randint(0, 3) \n",
    "        if rotates_cnt != 0:\n",
    "            new_img = np.rot90(new_img, rotates_cnt, (1, 2))\n",
    "        \n",
    "        # make extention blur\n",
    "        rad_Z = np.random.randint(0, 7)\n",
    "        rad_X = np.random.randint(0, 15)\n",
    "        rad_Y = np.random.randint(0, 15)\n",
    "        new_img = extention_bluring(new_img, rad_Z, rad_X, rad_Y)\n",
    "        \n",
    "        # blur image for smoothing edges\n",
    "        sigma_Z = np.random.uniform(0, 1)\n",
    "        sigma_X = np.random.uniform(0, 1)\n",
    "        sigma_Y = np.random.uniform(0, 1)\n",
    "        new_img = gaussian_filter(new_img, sigma=(sigma_Z, sigma_X, sigma_Y))\n",
    "        \n",
    "        # shift along axes\n",
    "        shift_along_z = np.random.randint(-6, 6)\n",
    "        shift_along_x = np.random.randint(-12, 12)\n",
    "        shift_along_y = np.random.randint(-12, 12) \n",
    "        new_img = move_frame(new_img, [shift_along_z, shift_along_x, shift_along_y])\n",
    "        \n",
    "        # add noize for more different data\n",
    "        noize_lvl = np.random.randint(0, 4)\n",
    "        #new_img = add_poisson_noise(new_img, noize_lvl)\n",
    "        \n",
    "        # add median filter for variative noize smoothing \n",
    "        size_z = np.random.randint(1, 5)\n",
    "        size_xy = np.random.randint(1, 15)\n",
    "        new_img = median_blurring(new_img, size_tuple=(size_z, size_xy, size_xy))\n",
    "        \n",
    "        # add to augmentated stack\n",
    "        augmentated_imgs.append(new_img)\n",
    "        \n",
    "    return augmentated_imgs\n",
    "\n",
    "\n",
    "def generate_pair(img:np.ndarray, blured_bead:np.ndarray, clear_bead:np.ndarray) -> tp.Tuple[np.ndarray]:\n",
    "    # generate data\n",
    "    x_data = convolution(img, blured_bead)\n",
    "    y_data = convolution(img, clear_bead)\n",
    "        \n",
    "    return (x_data, y_data)\n",
    "\n",
    "def discretize_data_intensities(x_data:np.ndarray, y_data:np.ndarray, max_discr_val:int = 255) -> tp.Tuple[np.ndarray]:\n",
    "    x_data = (np.round(x_data * max_discr_val)).astype(\"float32\") / max_discr_val\n",
    "    print(f\"DISCR INFO: Blured sum: {np.sum(x_data)}, Clear sum: {np.sum(y_data)}, Blured max: {np.max(x_data)},  Clear max: {np.max(y_data)}\")\n",
    "    return (x_data, y_data)\n",
    "\n",
    "def variate_intensity(x_data:np.ndarray, y_data:np.ndarray) -> tp.Tuple[np.ndarray]:\n",
    "    max_value = uniform(0.25, 1.0)\n",
    "    multipluer = max_value / np.amax(x_data)\n",
    "    print(f\"np.amax(x_data): {np.amax(x_data)}, max_value: {max_value}, multipluer: {multipluer}\")\n",
    "    x_data *= multipluer\n",
    "    y_data *= multipluer\n",
    "    \n",
    "    print(f\"VAR INFO: Blured sum: {np.sum(x_data)}, Clear sum: {np.sum(y_data)}, Blured max: {np.max(x_data)},  Clear max: {np.max(y_data)}\")\n",
    "\n",
    "    return (x_data, y_data)\n",
    "\n",
    "\n",
    "def image_loading(path : str, image_max_value:int = 255) ->tp.List[np.ndarray]:\n",
    "    # load image\n",
    "    img = load_tiff(path)\n",
    "    img = (img - np.min(img)).astype(\"float32\") / (np.max(img) - np.min(img)) * image_max_value\n",
    "    return [img]\n",
    "\n",
    "\n",
    "def make_shifts_of_origin_image(img : np.ndarray, shifts_size : tp.Tuple[int], shifts_count : tp.Tuple[int]):\n",
    "    new_img_list = []\n",
    "    \n",
    "    for y_shift in range(shifts_count[0]):\n",
    "        for x_shift in range(shifts_count[1]):\n",
    "            new_img = img[:, y_shift*shifts_size[0]:, x_shift*shifts_size[1]:]\n",
    "            new_img_list.append(new_img)\n",
    "            print(f\"Appended new img. New img shape: {new_img.shape}, old shape: {img.shape}\")\n",
    "    \n",
    "    print(f\"Total size: {len(new_img_list)}\")\n",
    "    return new_img_list\n",
    "\n",
    "\n",
    "\n",
    "def image_slicing(img : np.ndarray, image_split_shape : tp.Tuple[int], image_max_value:int = 255) ->tp.List[np.ndarray]:\n",
    "    # binarize to find places where could be usefull structures and no background\n",
    "    binarized_img = make_3d_binarization(img, gauss_blur_sigma = 3.5)\n",
    "    binarized_img_pieces = np.array(split_image(binarized_img,\n",
    "        min(image_split_shape[2], binarized_img.shape[2]), \n",
    "        min(image_split_shape[1], binarized_img.shape[1]), \n",
    "        min(image_split_shape[0], binarized_img.shape[0])))\n",
    "    \n",
    "    # select pieces which contains some info\n",
    "    pieces_sums = np.array([np.sum(piece) for piece in binarized_img_pieces])\n",
    "    print(f\"splited binarised parts: {len(binarized_img_pieces)}\")\n",
    "    pieces_indxs = np.where(pieces_sums > 0)\n",
    "    \n",
    "    # ..and split it..\n",
    "    img_pieces = np.array(split_image(img,\n",
    "        min(image_split_shape[2], img.shape[2]), \n",
    "        min(image_split_shape[1], img.shape[1]), \n",
    "        min(image_split_shape[0], img.shape[0])))\n",
    "    # ...and select some pieces with info\n",
    "    img_pieces = img_pieces[pieces_indxs]\n",
    "    img_pieces = [piece for piece in img_pieces]\n",
    "    print(f\"splited non-empty parts: {len(img_pieces)}\")\n",
    "    print(len(img_pieces), img_pieces[0].shape)\n",
    "    return img_pieces"
   ]
  },
  {
   "cell_type": "markdown",
   "metadata": {},
   "source": [
    "### 2. Генерация сфер"
   ]
  },
  {
   "cell_type": "code",
   "execution_count": null,
   "metadata": {
    "execution": {
     "iopub.execute_input": "2024-11-29T11:08:55.056834Z",
     "iopub.status.busy": "2024-11-29T11:08:55.055528Z",
     "iopub.status.idle": "2024-11-29T11:08:57.965549Z",
     "shell.execute_reply": "2024-11-29T11:08:57.964635Z",
     "shell.execute_reply.started": "2024-11-29T11:08:55.056779Z"
    },
    "tags": []
   },
   "outputs": [],
   "source": [
    "import matplotlib.cm as cm\n",
    "from plotting_utils import *\n",
    "\n",
    "# Генерация сфер\n",
    "gauss_blur_sigma = 1.5\n",
    "blured_bead = generate_average_bead(SPHERES_PATH, BEAD_SHAPE, low_border=5, gauss_blur_sigma=gauss_blur_sigma)\n",
    "clear_airy_bead = model_3d_airy_bead(BEAD_SHAPE, Z_SCALE, X_SCALE, Y_SCALE, BEAD_DIAMETER, zoomfactor=2.6)\n",
    "\n",
    "# Дополнительное размытие\n",
    "blured_clear_airy_bead = gaussian_blurring_sphere(clear_airy_bead, Z_SCALE, X_SCALE, Y_SCALE, SIGMA, additional_space_xy=MIN_DIST / 2, additional_space_z = MIN_DIST)\n",
    "\n",
    "# normalize for using as filters\n",
    "blured_bead = blured_bead / np.sum(blured_bead)\n",
    "clear_bead = blured_clear_airy_bead / np.sum(blured_clear_airy_bead)\n",
    "\n",
    "# ПРОВЕРКА: изображения-фильтры центрированы...\n",
    "print(blured_bead.dtype, clear_bead.dtype)\n",
    "print(np.unravel_index(clear_bead.argmax(), clear_bead.shape), clear_bead[np.unravel_index(clear_bead.argmax(), clear_bead.shape)])\n",
    "print(clear_bead[clear_bead.shape[0] // 2, clear_bead.shape[1] // 2, clear_bead.shape[2] // 2])\n",
    "print(np.unravel_index(blured_bead.argmax(), blured_bead.shape), blured_bead[np.unravel_index(blured_bead.argmax(), blured_bead.shape)])\n",
    "# ...и сумма точек равна 1\n",
    "print(np.sum(clear_bead))\n",
    "print(np.sum(blured_bead))\n",
    "\n",
    "# Отрисовка фильтров\n",
    "plot_image_slices(blured_bead, cm.jet, X_SCALE, Z_SCALE, np.array(BEAD_SHAPE) // 2)\n",
    "plot_image_slices(clear_bead, cm.jet, X_SCALE, Z_SCALE, np.array(BEAD_SHAPE) // 2)"
   ]
  },
  {
   "cell_type": "code",
   "execution_count": null,
   "metadata": {
    "execution": {
     "iopub.execute_input": "2024-11-29T11:08:57.967895Z",
     "iopub.status.busy": "2024-11-29T11:08:57.967391Z",
     "iopub.status.idle": "2024-11-29T11:08:58.351754Z",
     "shell.execute_reply": "2024-11-29T11:08:58.350902Z",
     "shell.execute_reply.started": "2024-11-29T11:08:57.967856Z"
    },
    "tags": []
   },
   "outputs": [],
   "source": [
    "fig, axes = center_intensities_show(blured_clear_airy_bead)\n",
    "fig.show()"
   ]
  },
  {
   "cell_type": "markdown",
   "metadata": {},
   "source": [
    "### 3. Генерация данных"
   ]
  },
  {
   "cell_type": "code",
   "execution_count": null,
   "metadata": {
    "execution": {
     "iopub.execute_input": "2024-11-29T11:08:58.353357Z",
     "iopub.status.busy": "2024-11-29T11:08:58.352805Z",
     "iopub.status.idle": "2024-11-29T13:14:30.932276Z"
    },
    "tags": []
   },
   "outputs": [],
   "source": [
    "# init dataset generator\n",
    "dg = DatasetGenerator(DATASET_NAME, DATA_SHAPE, data_description=DESCRIPTION, path=DATASET_PATH)\n",
    "dg.dump_data_info()\n",
    "\n",
    "# Сохранение сфер как одной из формирующих частей датасета!\n",
    "np.save(os.path.join(DATASET_PATH + DATASET_NAME, \"blured_bead\"), blured_bead)\n",
    "np.save(os.path.join(DATASET_PATH + DATASET_NAME, \"clear_bead\"), clear_bead)\n",
    "\n",
    "methods_list = [\n",
    "    lambda path : image_loading(path),\n",
    "    lambda img: make_shifts_of_origin_image(img, (75, 50), (2, 3)),\n",
    "    lambda img: image_slicing(img, IMG_SPLIT_SHAPE),\n",
    "    lambda img: [img] if np.sum(img) > 0 else [],                               # filter in pipeline\n",
    "    lambda img: [img] if np.amax(img) > 15 else [],                               # filter in pipeline\n",
    "    lambda img: augmentate_imgs(img, 3),\n",
    "    lambda img: [img] if np.sum(img) > 0 else [],                               # filter in pipeline\n",
    "    # NEW: WE FIRSTLY GENERATE AND AUGMENTATE SOME IMAGES, ONLY WHEN WE ARE INFLATE IT AND MAKE CONVOLUTION!\n",
    "    lambda img: inflate_image(img, DATA_SHAPE),\n",
    "    lambda img : generate_pair(img, blured_bead, clear_bead),\n",
    "    lambda x_data, y_data : variate_intensity(x_data, y_data),\n",
    "    lambda x_data, y_data : discretize_data_intensities(x_data, y_data),\n",
    "    lambda x_data, y_data : dg.append(x_data, y_data) \n",
    "]\n",
    "\n",
    "pipeline = Pipeline(methods_list)\n",
    "for path in PATHS:\n",
    "    pipeline(path) \n",
    "dg.dump_data_info()\n",
    "dg.close()"
   ]
  },
  {
   "cell_type": "code",
   "execution_count": null,
   "metadata": {
    "execution": {
     "iopub.execute_input": "2024-11-29T13:14:30.934678Z",
     "iopub.status.busy": "2024-11-29T13:14:30.933391Z",
     "iopub.status.idle": "2024-11-29T13:14:30.955604Z"
    },
    "tags": []
   },
   "outputs": [],
   "source": [
    "dg.dump_data_info()\n",
    "dg.close()"
   ]
  },
  {
   "cell_type": "code",
   "execution_count": null,
   "metadata": {
    "execution": {
     "iopub.execute_input": "2024-11-29T13:14:30.957909Z",
     "iopub.status.busy": "2024-11-29T13:14:30.956558Z",
     "iopub.status.idle": "2024-11-29T13:14:31.239859Z"
    },
    "tags": []
   },
   "outputs": [],
   "source": [
    "blured_bead = np.load(\"./dataset_w_paddings/blured_bead.npy\")\n",
    "clear_bead = np.load(\"./dataset_w_paddings/clear_bead.npy\")\n",
    "print(np.unravel_index(blured_bead.argmax(), blured_bead.shape), blured_bead[np.unravel_index(blured_bead.argmax(), blured_bead.shape)])\n",
    "print(np.unravel_index(clear_bead.argmax(), clear_bead.shape), clear_bead[np.unravel_index(clear_bead.argmax(), clear_bead.shape)])\n"
   ]
  },
  {
   "cell_type": "markdown",
   "metadata": {
    "tags": []
   },
   "source": [
    "### Доп секция для визуализаций разных штук"
   ]
  },
  {
   "cell_type": "code",
   "execution_count": null,
   "metadata": {
    "execution": {
     "iopub.status.busy": "2024-11-29T13:14:31.240804Z",
     "iopub.status.idle": "2024-11-29T13:14:31.241430Z"
    },
    "tags": []
   },
   "outputs": [],
   "source": [
    "tmp_img_data = load_tiff(\"./data/raw_neurons/21.tiff\")\n",
    "print(tmp_img_data.shape)\n",
    "save_image_slices(tmp_img_data, \"./data/raw_neurons/21.png\", cm.jet, 0.022, 0.1, np.array(tmp_img_data.shape) // 2)"
   ]
  },
  {
   "cell_type": "code",
   "execution_count": null,
   "metadata": {},
   "outputs": [],
   "source": []
  }
 ],
 "metadata": {
  "kernelspec": {
   "display_name": "DataSphere Kernel",
   "language": "python",
   "name": "python3"
  },
  "language_info": {
   "codemirror_mode": {
    "name": "ipython",
    "version": 3
   },
   "file_extension": ".py",
   "mimetype": "text/x-python",
   "name": "python",
   "nbconvert_exporter": "python",
   "pygments_lexer": "ipython3",
   "version": "3.10.12"
  }
 },
 "nbformat": 4,
 "nbformat_minor": 4
}
