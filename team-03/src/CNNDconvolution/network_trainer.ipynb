{
 "cells": [
  {
   "cell_type": "markdown",
   "metadata": {},
   "source": [
    "# Журнал тренировки сети\n",
    "\n",
    "Данный журнал необходим для тренировки сети в системе Yandex DataSphere. На вход в блоке входных данных указываются параметры обучения:\n",
    "- Путь до директории с датасетом\n",
    "- Число эпох\n",
    "- Скорость обучения\n",
    "- Batch size\n",
    "- Описание эксперимента обучения\n",
    "- Путь для сохранения результатов обучения (графики, метрики)\n",
    "- Путь для сохранения визуализации работы сети на тренировочном и тестовом датасете (None, если не нужно производить визуализацю)"
   ]
  },
  {
   "cell_type": "markdown",
   "metadata": {},
   "source": [
    "## Блок входных параметров"
   ]
  },
  {
   "cell_type": "code",
   "execution_count": 1,
   "metadata": {
    "execution": {
     "iopub.execute_input": "2024-11-29T17:28:01.106377Z",
     "iopub.status.busy": "2024-11-29T17:28:01.106019Z",
     "iopub.status.idle": "2024-11-29T17:28:01.174140Z",
     "shell.execute_reply": "2024-11-29T17:28:01.173288Z",
     "shell.execute_reply.started": "2024-11-29T17:28:01.106356Z"
    },
    "tags": []
   },
   "outputs": [],
   "source": [
    "DATASET_PATH = \"./../DataGeneration/inflated_new_vital\"\n",
    "#DATASET_PATH = \"./../DataGeneration/green_data_3\"\n",
    "EPOCHS = 150\n",
    "LR = 3e-4\n",
    "BATCH_SIZE = 15\n",
    "MODEL_NAME = \"model.h5\""
   ]
  },
  {
   "cell_type": "markdown",
   "metadata": {},
   "source": [
    "## Секция проведения обучения"
   ]
  },
  {
   "cell_type": "markdown",
   "metadata": {},
   "source": [
    "### 0. Импорт необходимых классов и объектов"
   ]
  },
  {
   "cell_type": "code",
   "execution_count": null,
   "metadata": {
    "execution": {
     "iopub.execute_input": "2024-11-29T17:28:01.175550Z",
     "iopub.status.busy": "2024-11-29T17:28:01.175196Z",
     "iopub.status.idle": "2024-11-29T17:28:16.464563Z",
     "shell.execute_reply": "2024-11-29T17:28:16.463771Z",
     "shell.execute_reply.started": "2024-11-29T17:28:01.175523Z"
    },
    "tags": []
   },
   "outputs": [],
   "source": [
    "from dataset_reader import DatasetReader\n",
    "from dataset_loader import DatasetSequence"
   ]
  },
  {
   "cell_type": "markdown",
   "metadata": {},
   "source": [
    "### 1. Загрузка и проверка данных"
   ]
  },
  {
   "cell_type": "code",
   "execution_count": null,
   "metadata": {
    "execution": {
     "iopub.execute_input": "2024-11-29T17:28:16.465834Z",
     "iopub.status.busy": "2024-11-29T17:28:16.465327Z",
     "iopub.status.idle": "2024-11-29T17:41:51.582126Z"
    },
    "tags": []
   },
   "outputs": [],
   "source": [
    "dr = DatasetReader(DATASET_PATH)\n",
    "X_train, Y_train, X_val, Y_val = dr.read_and_split_all_data(need_shuffle=True)\n",
    "\n",
    "print(X_train.shape)\n",
    "print(Y_train.shape)\n",
    "print(X_val.shape)\n",
    "print(Y_val.shape)\n",
    "\n",
    "train_loader = DatasetSequence(X_train, Y_train, BATCH_SIZE)\n",
    "valid_loader = DatasetSequence(X_val, Y_val, BATCH_SIZE)\n",
    "\n",
    "print(len(train_loader))\n",
    "print(len(valid_loader))"
   ]
  },
  {
   "cell_type": "code",
   "execution_count": null,
   "metadata": {
    "execution": {
     "iopub.execute_input": "2024-11-29T17:41:51.584386Z",
     "iopub.status.busy": "2024-11-29T17:41:51.583965Z",
     "iopub.status.idle": "2024-11-29T17:42:00.493598Z"
    },
    "tags": []
   },
   "outputs": [],
   "source": [
    "import os\n",
    "from random import randint\n",
    "from utils import *\n",
    "from plotting_utils import *\n",
    "import matplotlib.cm as cm\n",
    "\n",
    "data_to_save_cnt = 10\n",
    "for _ in range(data_to_save_cnt):\n",
    "    idx = randint(0, X_train.shape[0])\n",
    "    print(idx)\n",
    "    x_data = X_train[idx, ..., 0]\n",
    "    y_data = Y_train[idx, ..., 0]\n",
    "    #x_inted_data = ((x_data * 255).astype(\"uint8\")).astype(\"float32\") / 255 \n",
    "    save_tiff(x_data, f\"./data/data_vis/x{idx}.tiff\")\n",
    "    save_tiff(y_data, f\"./data/data_vis/y{idx}.tiff\")\n",
    "    save_image_slices(x_data, f\"./data/data_vis/x{idx}.png\", cm.jet, 0.022, 0.1, np.array(x_data.shape) // 2)\n",
    "    #save_image_slices(x_inted_data, f\"./data/data_vis/x_inted_{idx}.png\", cm.jet, 0.022, 0.1, np.array(x_data.shape) // 2)\n",
    "    save_image_slices(y_data, f\"./data/data_vis/y{idx}.png\", cm.jet, 0.022, 0.1, np.array(y_data.shape) // 2)"
   ]
  },
  {
   "cell_type": "markdown",
   "metadata": {},
   "source": [
    "### 2. Инициализация и компиляция модели глубокого обучения "
   ]
  },
  {
   "cell_type": "code",
   "execution_count": null,
   "metadata": {
    "execution": {
     "iopub.execute_input": "2024-11-29T17:42:00.495132Z",
     "iopub.status.busy": "2024-11-29T17:42:00.494802Z",
     "iopub.status.idle": "2024-11-29T17:42:04.318778Z"
    },
    "tags": []
   },
   "outputs": [],
   "source": [
    "import numpy as np\n",
    "#from CNNModels.cnn_deconv_unet import CNNDeconvUNet\n",
    "from CNNModels.cnn_deconv_unet_exp import CNNDeconvUNet\n",
    "from CNNModels.cnn_deconv_rescoder import CNNDeconvRescoder\n",
    "\n",
    "from tensorflow.keras.utils import plot_model\n",
    "\n",
    "model = CNNDeconvUNet.build_model((*dr.shape, 1), LR)\n",
    "plot_model(model, to_file='model.png')"
   ]
  },
  {
   "cell_type": "markdown",
   "metadata": {},
   "source": [
    "### 3. Обучение модели"
   ]
  },
  {
   "cell_type": "code",
   "execution_count": null,
   "metadata": {
    "execution": {
     "iopub.execute_input": "2024-11-29T17:42:04.320064Z",
     "iopub.status.busy": "2024-11-29T17:42:04.319719Z",
     "iopub.status.idle": "2024-11-30T12:11:42.824397Z"
    },
    "tags": []
   },
   "outputs": [],
   "source": [
    "import os\n",
    "from datetime import datetime\n",
    "import tensorflow as tf\n",
    "import keras\n",
    "\n",
    "import wandb\n",
    "from wandb.integration.keras import (\n",
    "   WandbMetricsLogger,\n",
    "   WandbModelCheckpoint,\n",
    ")\n",
    "import json\n",
    "\n",
    "wanbai_keys_dict = json.loads(os.environ['wandbai_logins'])\n",
    "os.environ['WANDB_API_KEY'] = '600b44e5399cb8873011d1bd392dcc603d66f5c1'#wanbai_keys_dict['sachuk']\n",
    "\n",
    "\n",
    "# init run\n",
    "run = wandb.init(\n",
    "    # Set the project where this run will be logged\n",
    "    project=\"RuDeconv3D\",\n",
    "    # Track hyperparameters and run metadata\n",
    "    config={\n",
    "        \"learning_rate\": LR,\n",
    "        \"epochs\": EPOCHS,\n",
    "        \"batch_size\": BATCH_SIZE\n",
    "    },\n",
    "    settings=wandb.Settings(init_timeout=180)\n",
    ")\n",
    "\n",
    "\n",
    "\n",
    "# Generate paths for logging and saving results\n",
    "result_path = os.path.join(\"./train_logs/\", datetime.now().strftime(\"%Y-%m-%d_%H-%M\"))\n",
    "os.mkdir(result_path)\n",
    "model_saving_path = os.path.join(result_path, \"best_\" + MODEL_NAME)\n",
    "\n",
    "\n",
    "# Generate checkpoints\n",
    "model_checkpoint_callback = tf.keras.callbacks.ModelCheckpoint(\n",
    "    filepath=model_saving_path,\n",
    "    save_weights_only=True,\n",
    "    monitor='val_loss',\n",
    "    mode='min',\n",
    "    verbose=1,\n",
    "    save_best_only=True\n",
    ")\n",
    "\n",
    "tb_path = os.path.join(result_path, \"tensorboard_log\")\n",
    "tensorboard_callback = keras.callbacks.TensorBoard(\n",
    "    log_dir=tb_path,\n",
    "    histogram_freq=1\n",
    ")\n",
    "\n",
    "\n",
    "# train model\n",
    "hist = model.fit(x=train_loader, \n",
    "    validation_data=valid_loader, \n",
    "    epochs = EPOCHS, \n",
    "    batch_size=BATCH_SIZE, \n",
    "    #use_multiprocessing=False, \n",
    "    shuffle=True, \n",
    "    callbacks=[\n",
    "        model_checkpoint_callback, \n",
    "        tensorboard_callback, \n",
    "        WandbMetricsLogger(log_freq=5)\n",
    "              ] # here are callbacks\n",
    ")\n"
   ]
  },
  {
   "cell_type": "code",
   "execution_count": null,
   "metadata": {
    "execution": {
     "iopub.execute_input": "2024-11-30T12:11:42.826017Z",
     "iopub.status.busy": "2024-11-30T12:11:42.825266Z",
     "iopub.status.idle": "2024-11-30T12:11:42.982505Z"
    },
    "tags": []
   },
   "outputs": [],
   "source": [
    "model_saving_path = os.path.join(result_path, \"last_\" + MODEL_NAME)\n",
    "model.save_weights(model_saving_path)"
   ]
  },
  {
   "cell_type": "code",
   "execution_count": null,
   "metadata": {},
   "outputs": [],
   "source": []
  }
 ],
 "metadata": {
  "kernelspec": {
   "display_name": "DataSphere Kernel",
   "language": "python",
   "name": "python3"
  },
  "language_info": {
   "codemirror_mode": {
    "name": "ipython",
    "version": 3
   },
   "file_extension": ".py",
   "mimetype": "text/x-python",
   "name": "python",
   "nbconvert_exporter": "python",
   "pygments_lexer": "ipython3",
   "version": "3.10.12"
  }
 },
 "nbformat": 4,
 "nbformat_minor": 4
}
